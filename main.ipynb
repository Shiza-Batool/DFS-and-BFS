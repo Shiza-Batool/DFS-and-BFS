{
 "cells": [
  {
   "cell_type": "code",
   "execution_count": 1,
   "metadata": {},
   "outputs": [
    {
     "name": "stdout",
     "output_type": "stream",
     "text": [
      "Shortest path using BFS: (['Arad', 'Sibiu', 'Fagaras', 'Bucharest'], 450)\n",
      "Shortest path using DFS: (['Arad', 'Timisoara', 'Lugoj', 'Mehadia', 'Dobreta', 'Craiova', 'Pitesti', 'Bucharest'], 733)\n"
     ]
    }
   ],
   "source": [
    "# Define the graph using an adjacency list\n",
    "graph = {\n",
    "    'Arad': {'Zerind': 75, 'Sibiu': 140, 'Timisoara': 118},\n",
    "    'Zerind': {'Arad': 75, 'Oradea': 71},\n",
    "    'Oradea': {'Zerind': 71, 'Sibiu': 151},\n",
    "    'Sibiu': {'Arad': 140, 'Oradea': 151, 'Rimnicu Vilcea': 80, 'Fagaras': 99},\n",
    "    'Timisoara': {'Arad': 118, 'Lugoj': 111},\n",
    "    'Lugoj': {'Timisoara': 111, 'Mehadia': 70},\n",
    "    'Mehadia': {'Lugoj': 70, 'Dobreta': 75},\n",
    "    'Dobreta': {'Mehadia': 75, 'Craiova': 120},\n",
    "    'Craiova': {'Dobreta': 120, 'Rimnicu Vilcea': 146, 'Pitesti': 138},\n",
    "    'Rimnicu Vilcea': {'Sibiu': 80, 'Pitesti': 97, 'Craiova': 146},\n",
    "    'Pitesti': {'Rimnicu Vilcea': 97, 'Craiova': 138, 'Bucharest': 101},\n",
    "    'Fagaras': {'Sibiu': 99, 'Bucharest': 211},\n",
    "    'Bucharest': {'Pitesti': 101, 'Fagaras': 211, 'Giurgiu': 90, 'Urziceni': 85},\n",
    "    'Giurgiu': {'Bucharest': 90},\n",
    "    'Urziceni': {'Bucharest': 85, 'Hirsova': 98, 'Vaslui': 142},\n",
    "    'Hirsova': {'Urziceni': 98, 'Eforie': 86},\n",
    "    'Eforie': {'Hirsova': 86},\n",
    "    'Vaslui': {'Iasi': 92, 'Urziceni': 142},\n",
    "    'Iasi': {'Vaslui': 92, 'Neamt': 87},\n",
    "    'Neamt': {'Iasi': 87}\n",
    "}\n",
    "\n",
    "# Implement BFS algorithm\n",
    "def bfs(graph, start, goal):\n",
    "    queue = [(start, [start], 0)]\n",
    "    visited = set()\n",
    "\n",
    "    while queue:\n",
    "        (current, path, distance) = queue.pop(0)\n",
    "        visited.add(current)\n",
    "\n",
    "        if current == goal:\n",
    "            return path, distance\n",
    "\n",
    "        for neighbor, weight in graph[current].items():\n",
    "            if neighbor not in visited:\n",
    "                queue.append((neighbor, path + [neighbor], distance + weight))\n",
    "\n",
    "    return None\n",
    "\n",
    "# Implement DFS algorithm\n",
    "def dfs(graph, start, goal):\n",
    "    stack = [(start, [start], 0)]\n",
    "    visited = set()\n",
    "\n",
    "    while stack:\n",
    "        (current, path, distance) = stack.pop()\n",
    "        visited.add(current)\n",
    "\n",
    "        if current == goal:\n",
    "            return path, distance\n",
    "\n",
    "        for neighbor, weight in graph[current].items():\n",
    "            if neighbor not in visited:\n",
    "                stack.append((neighbor, path + [neighbor], distance + weight))\n",
    "\n",
    "    return None\n",
    "\n",
    "# Test the algorithms\n",
    "source = 'Arad'\n",
    "goal = 'Bucharest'\n",
    "\n",
    "print('Shortest path using BFS:', bfs(graph,source,goal))\n",
    "\n",
    "print('Shortest path using DFS:', dfs(graph,source,goal))\n"
   ]
  }
 ],
 "metadata": {
  "kernelspec": {
   "display_name": "Python 3",
   "language": "python",
   "name": "python3"
  },
  "language_info": {
   "codemirror_mode": {
    "name": "ipython",
    "version": 3
   },
   "file_extension": ".py",
   "mimetype": "text/x-python",
   "name": "python",
   "nbconvert_exporter": "python",
   "pygments_lexer": "ipython3",
   "version": "3.11.0"
  },
  "orig_nbformat": 4,
  "vscode": {
   "interpreter": {
    "hash": "379fe8e10ded02fa94a29b4b37a41c7d80f19320dc2f2cadbccf353975fbaaa0"
   }
  }
 },
 "nbformat": 4,
 "nbformat_minor": 2
}
